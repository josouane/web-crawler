{
  "nbformat": 4,
  "nbformat_minor": 0,
  "metadata": {
    "colab": {
      "provenance": [],
      "authorship_tag": "ABX9TyNB6Hr+SoCP5g4DbWDsq6Yo",
      "include_colab_link": true
    },
    "kernelspec": {
      "name": "python3",
      "display_name": "Python 3"
    },
    "language_info": {
      "name": "python"
    }
  },
  "cells": [
    {
      "cell_type": "markdown",
      "metadata": {
        "id": "view-in-github",
        "colab_type": "text"
      },
      "source": [
        "<a href=\"https://colab.research.google.com/github/josouane/web-crawler/blob/main/chatgpt-web-crawler.ipynb\" target=\"_parent\"><img src=\"https://colab.research.google.com/assets/colab-badge.svg\" alt=\"Open In Colab\"/></a>"
      ]
    },
    {
      "cell_type": "code",
      "execution_count": null,
      "metadata": {
        "id": "0_ybYBPx2-E4"
      },
      "outputs": [],
      "source": [
        "import requests\n",
        "from bs4 import BeautifulSoup\n",
        "from urllib.parse import urljoin, urlparse\n",
        "\n",
        "class WebCrawler:\n",
        "   def __init__(self, start_url, visiting_strategy='preorder'):\n",
        "       self.start_url = start_url\n",
        "       self.visiting_strategy = visiting_strategy.lower()\n",
        "       self.visited_urls = set()\n",
        "       self.corpus = {}\n",
        "       self.main_domain = urlparse(start_url).netloc\n",
        "\n",
        "   def crawl(self, url, depth=0):\n",
        "       if depth > 10:  # Limiting depth to avoid potential infinite loops\n",
        "           print(f\"Reached maximum depth for {url}\")\n",
        "           return\n",
        "\n",
        "       if url not in self.visited_urls and self.is_same_domain(url):\n",
        "           print(f\"Visiting: {url}\")\n",
        "           self.visited_urls.add(url)\n",
        "           try:\n",
        "               response = requests.get(url)\n",
        "               soup = BeautifulSoup(response.content, 'html.parser')\n",
        "               title = soup.title.string.strip() if soup.title else 'Untitled'\n",
        "               text_content = self.extract_text_content(soup)\n",
        "               self.corpus[title] = text_content\n",
        "               print(f\"Text Content: {text_content[:100]}...\")  # Output a snippet of text\n",
        "\n",
        "               if self.visiting_strategy == 'preorder':\n",
        "                   links = self.extract_links(soup)\n",
        "                   for link in links:\n",
        "                       self.crawl(link, depth + 1)\n",
        "\n",
        "               # Additional visiting strategies (inorder, postorder) can be implemented here\n",
        "\n",
        "           except Exception as e:\n",
        "               print(f\"Error crawling {url}: {e}\")\n",
        "\n",
        "   def extract_text_content(self, soup):\n",
        "       # Extract text content only from the body of the HTML\n",
        "       text_content = ' '.join([p.get_text(separator=' ', strip=True) for p in soup.body.find_all('p')])\n",
        "       return text_content\n",
        "\n",
        "   def extract_links(self, soup):\n",
        "       # Extract all links from the page\n",
        "       links = [link.get('href') for link in soup.find_all('a', href=True)]\n",
        "       # Filter internal links only\n",
        "       links = [urljoin(self.start_url, link) for link in links if link.startswith(('http', 'https'))]\n",
        "       # Exclude PDF links\n",
        "       links = [link for link in links if not link.endswith('.pdf')]\n",
        "       # Filter out external links\n",
        "       links = [link for link in links if self.is_same_domain(link)]\n",
        "       # Exclude links with 'resources' in the URL\n",
        "       links = [link for link in links if 'resources' not in link.lower()]\n",
        "       return links\n",
        "\n",
        "   def is_same_domain(self, url):\n",
        "       return urlparse(url).netloc == self.main_domain\n",
        "\n",
        "   def start_crawling(self):\n",
        "       self.crawl(self.start_url)\n",
        "       self.save_corpus()\n",
        "\n",
        "   def save_corpus(self):\n",
        "       # Save the extracted corpus to text files\n",
        "       for title, content in self.corpus.items():\n",
        "           with open(f\"{title}.txt\", 'w', encoding='utf-8') as file:\n",
        "               file.write(content)\n",
        "\n",
        "if __name__ == \"__main__\":\n",
        "   # Get the starting URL from the user\n",
        "   start_url = input(\"Enter the website's URL: \")\n",
        "\n",
        "   # Instantiate the WebCrawler with the provided URL and visiting strategy\n",
        "   crawler = WebCrawler(start_url=start_url, visiting_strategy='preorder')\n",
        "\n",
        "   # Start crawling\n",
        "   crawler.start_crawling()"
      ]
    }
  ]
}